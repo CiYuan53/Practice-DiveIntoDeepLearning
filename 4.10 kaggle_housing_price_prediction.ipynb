{
 "cells": [
  {
   "cell_type": "code",
   "execution_count": null,
   "metadata": {},
   "outputs": [],
   "source": [
    "import pandas as pd\n",
    "import torch\n",
    "from torch import nn\n",
    "from common import load_data_arrays\n",
    "\n",
    "path = (\n",
    "    \"/Users/sunny/Desktop/D2L/data.nosync/house-prices-advanced-regression-techniques/\"\n",
    ")\n",
    "\n",
    "loss = nn.MSELoss()\n"
   ]
  },
  {
   "cell_type": "code",
   "execution_count": null,
   "metadata": {},
   "outputs": [],
   "source": [
    "def data_preprocess(parent_path: str):\n",
    "    test_features = pd.read_csv(parent_path + \"test.csv\").iloc[:, 1:]  # no indicies\n",
    "    train_data = pd.read_csv(parent_path + \"train.csv\")\n",
    "    train_label_tensor = torch.tensor(\n",
    "        train_data.iloc[:, -1].values.reshape(-1, 1), dtype=torch.float32\n",
    "    )\n",
    "    train_features = train_data.iloc[:, 1:-1]  # no indices and labels\n",
    "    del train_data\n",
    "\n",
    "    # concatnation is neccessary when doing get_dummies()\n",
    "    # I am concerned that should we vanish mean together???\n",
    "    all_features = pd.concat((train_features, test_features))\n",
    "    del train_features, test_features\n",
    "\n",
    "    # vanish the mean (=0) so that we can fill na=0 and convert into indicator features\n",
    "    cols = all_features.dtypes[all_features.dtypes != \"object\"].index\n",
    "    all_features[cols] = all_features[cols].apply(lambda x: (x - x.mean()) / (x.std()))\n",
    "    all_features[cols] = all_features[cols].fillna(0)\n",
    "    all_features = pd.get_dummies(all_features, dummy_na=True)\n",
    "\n",
    "    return (\n",
    "        torch.tensor(\n",
    "            all_features[: len(train_label_tensor)].values, dtype=torch.float32\n",
    "        ),\n",
    "        train_label_tensor,\n",
    "        torch.tensor(\n",
    "            all_features[len(train_label_tensor) :].values, dtype=torch.float32\n",
    "        ),\n",
    "    )\n"
   ]
  },
  {
   "cell_type": "code",
   "execution_count": null,
   "metadata": {},
   "outputs": [],
   "source": [
    "def train(\n",
    "    net: nn.Sequential,\n",
    "    optimizer: torch.optim.Optimizer,\n",
    "    num_epochs: int,\n",
    "    X_train: torch.Tensor,\n",
    "    y_train: torch.Tensor,\n",
    "    batch_size: int,\n",
    "):\n",
    "    net.train()\n",
    "    for _ in range(num_epochs):\n",
    "        for X, y in load_data_arrays((X_train, y_train), batch_size):\n",
    "            optimizer.zero_grad()\n",
    "            loss(net(X), y).backward()\n",
    "            optimizer.step()\n"
   ]
  },
  {
   "cell_type": "code",
   "execution_count": null,
   "metadata": {},
   "outputs": [],
   "source": [
    "def get_k_fold_data(k: int, i: int, X: torch.Tensor, y: torch.Tensor):\n",
    "    fold_size = X.shape[0] // k\n",
    "    X_train, y_train, X_valid, y_valid = None, None, None, None\n",
    "    for j in range(k):\n",
    "        indicies = slice(j * fold_size, (j + 1) * fold_size)  # may lose some data\n",
    "        X_part, y_part = X[indicies, :], y[indicies]\n",
    "        if j == i:\n",
    "            X_valid, y_valid = X_part, y_part\n",
    "        elif X_train is None:\n",
    "            X_train, y_train = X_part, y_part\n",
    "        else:\n",
    "            X_train = torch.cat([X_train, X_part], 0)\n",
    "            y_train = torch.cat([y_train, y_part], 0)\n",
    "\n",
    "    return X_train, y_train, X_valid, y_valid\n"
   ]
  },
  {
   "cell_type": "code",
   "execution_count": null,
   "metadata": {},
   "outputs": [],
   "source": [
    "def log_rmse(y_hat: torch.Tensor, y: torch.Tensor):\n",
    "    y_hat_clipped = torch.clamp(y_hat, 1)  # set lower bound for stability\n",
    "    l = loss(torch.log(y_hat_clipped), torch.log(y))\n",
    "    return torch.sqrt(l).item()\n"
   ]
  },
  {
   "cell_type": "code",
   "execution_count": null,
   "metadata": {},
   "outputs": [],
   "source": [
    "def k_fold(\n",
    "    k: int,\n",
    "    num_epochs: int,\n",
    "    X: torch.Tensor,\n",
    "    y: torch.Tensor,\n",
    "    batch_size: int,\n",
    "    learning_rate: float,\n",
    "    wd: float,\n",
    "):\n",
    "    train_loss, valid_loss = [], []\n",
    "    for i in range(k):\n",
    "        X_train, y_train, X_valid, y_valid = get_k_fold_data(k, i, X, y)\n",
    "        net = get_net(X.shape[1])\n",
    "        optimizer = torch.optim.Adam(net.parameters(), learning_rate, weight_decay=wd)\n",
    "        train(net, optimizer, num_epochs, X_train, y_train, batch_size)\n",
    "\n",
    "        net.eval()\n",
    "        with torch.no_grad():\n",
    "            train_loss.append(log_rmse(net(X_train), y_train))\n",
    "            valid_loss.append(log_rmse(net(X_valid), y_valid))\n",
    "\n",
    "        print(\n",
    "            f\"fold {i + 1}: train log rmse {train_loss[-1]:.8f}, \"\n",
    "            f\"valid log rmse {valid_loss[-1]:.8f}\"\n",
    "        )\n",
    "\n",
    "    print(\n",
    "        f\"avg: train log rmse {sum(train_loss) / k:.8f},\"\n",
    "        f\"valid log rmse {sum(valid_loss) / k:.8f}\"\n",
    "    )\n"
   ]
  },
  {
   "cell_type": "code",
   "execution_count": null,
   "metadata": {},
   "outputs": [],
   "source": [
    "def get_net(num_in: int):\n",
    "    return nn.Sequential(nn.Linear(num_in, 1))\n"
   ]
  },
  {
   "cell_type": "code",
   "execution_count": null,
   "metadata": {},
   "outputs": [],
   "source": [
    "X_train, y_train, X_test = data_preprocess(path)\n"
   ]
  },
  {
   "cell_type": "code",
   "execution_count": null,
   "metadata": {},
   "outputs": [],
   "source": [
    "k_fold(5, 100, X_train, y_train, 256, 100, 0)\n"
   ]
  }
 ],
 "metadata": {
  "kernelspec": {
   "display_name": "Python 3.8.9 ('venv.nosync': venv)",
   "language": "python",
   "name": "python3"
  },
  "language_info": {
   "codemirror_mode": {
    "name": "ipython",
    "version": 3
   },
   "file_extension": ".py",
   "mimetype": "text/x-python",
   "name": "python",
   "nbconvert_exporter": "python",
   "pygments_lexer": "ipython3",
   "version": "3.8.9"
  },
  "orig_nbformat": 4,
  "vscode": {
   "interpreter": {
    "hash": "32268d4e581fe03557b882c726ca3c7d1b7c7b38a8cbb369358f7336ac339326"
   }
  }
 },
 "nbformat": 4,
 "nbformat_minor": 2
}
