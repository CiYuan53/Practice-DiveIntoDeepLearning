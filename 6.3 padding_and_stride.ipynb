{
 "cells": [
  {
   "cell_type": "code",
   "execution_count": null,
   "metadata": {},
   "outputs": [],
   "source": [
    "import torch\n",
    "from torch import nn\n"
   ]
  },
  {
   "cell_type": "code",
   "execution_count": null,
   "metadata": {},
   "outputs": [],
   "source": [
    "def comp_conv2d(conv2d: nn.Conv2d, X: torch.Tensor):\n",
    "    X = X.reshape((1, 1) + X.shape)  # reshape into 4d\n",
    "    Y = conv2d(X)\n",
    "    return Y.reshape(Y.shape[2:])\n"
   ]
  },
  {
   "cell_type": "code",
   "execution_count": null,
   "metadata": {},
   "outputs": [],
   "source": [
    "X = torch.rand((8, 8))\n",
    "# size = n-k+p+1 (n <- X, k <- kernel, p <- padding)\n",
    "# 8 - 3 + 1*2 + 1 = 8\n",
    "print(comp_conv2d(nn.Conv2d(1, 1, 3, padding=1), X).shape)\n",
    "# 8 - 5 + 2*2 + 1 = 8\n",
    "# 8 - 3 + 1*2 + 1 = 8\n",
    "print(comp_conv2d(nn.Conv2d(1, 1, (5, 3), padding=(2, 1)), X).shape)\n"
   ]
  },
  {
   "cell_type": "code",
   "execution_count": null,
   "metadata": {},
   "outputs": [],
   "source": [
    "# size = floor((n-k+s+p)/s) (n <- X, k <- kernel, s <- stride, p <- padding)\n",
    "# (8 - 3 + 2+ 1*2 ) / 2 = 4\n",
    "print(comp_conv2d(nn.Conv2d(1, 1, 3, 2, 1), X).shape)\n",
    "# (8 - 3 + 3 + 0*2) / 3 = 2.67 = 2\n",
    "# (8 - 5 + 4 + 1*2) / 4 = 2.25 = 2\n",
    "print(comp_conv2d(nn.Conv2d(1, 1, (3, 5), (3, 4), (0, 1)), X).shape)\n"
   ]
  }
 ],
 "metadata": {
  "kernelspec": {
   "display_name": "Python 3.8.9 ('venv.nosync': venv)",
   "language": "python",
   "name": "python3"
  },
  "language_info": {
   "codemirror_mode": {
    "name": "ipython",
    "version": 3
   },
   "file_extension": ".py",
   "mimetype": "text/x-python",
   "name": "python",
   "nbconvert_exporter": "python",
   "pygments_lexer": "ipython3",
   "version": "3.8.9"
  },
  "orig_nbformat": 4,
  "vscode": {
   "interpreter": {
    "hash": "32268d4e581fe03557b882c726ca3c7d1b7c7b38a8cbb369358f7336ac339326"
   }
  }
 },
 "nbformat": 4,
 "nbformat_minor": 2
}
