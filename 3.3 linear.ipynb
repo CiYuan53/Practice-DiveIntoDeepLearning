{
 "cells": [
  {
   "cell_type": "code",
   "execution_count": 1,
   "metadata": {},
   "outputs": [],
   "source": [
    "import torch\n",
    "from torch import nn\n",
    "from common import synthetic_data, load_data_arrays\n"
   ]
  },
  {
   "cell_type": "code",
   "execution_count": 2,
   "metadata": {},
   "outputs": [],
   "source": [
    "real_w = torch.tensor([2, -3.4])\n",
    "real_b = torch.tensor(4.2)\n",
    "features, labels = synthetic_data(real_w, real_b, 100)\n",
    "data_iter = load_data_arrays((features, labels), 10)"
   ]
  },
  {
   "cell_type": "code",
   "execution_count": 3,
   "metadata": {},
   "outputs": [
    {
     "name": "stdout",
     "output_type": "stream",
     "text": [
      "epoch 1: loss 9.263541\n",
      "epoch 2: loss 2.645049\n",
      "epoch 3: loss 0.826314\n"
     ]
    }
   ],
   "source": [
    "net = nn.Sequential(nn.Linear(2, 1))\n",
    "net[0].weight.data.normal_(0, 0.01)\n",
    "net[0].bias.data.fill_(0)\n",
    "\n",
    "loss = nn.MSELoss()  # mean squared error\n",
    "\n",
    "optimizer = torch.optim.SGD(net.parameters(), 0.03)\n",
    "\n",
    "for epoch in range(3):\n",
    "    for X, y in data_iter:\n",
    "        optimizer.zero_grad()\n",
    "        loss(net(X), y).backward()\n",
    "        optimizer.step()\n",
    "\n",
    "    print(f\"epoch {epoch + 1}: loss {loss(net(features), labels) :f}\")\n"
   ]
  }
 ],
 "metadata": {
  "kernelspec": {
   "display_name": "Python 3.8.9 ('venv.nosync': venv)",
   "language": "python",
   "name": "python3"
  },
  "language_info": {
   "codemirror_mode": {
    "name": "ipython",
    "version": 3
   },
   "file_extension": ".py",
   "mimetype": "text/x-python",
   "name": "python",
   "nbconvert_exporter": "python",
   "pygments_lexer": "ipython3",
   "version": "3.8.9"
  },
  "orig_nbformat": 4,
  "vscode": {
   "interpreter": {
    "hash": "32268d4e581fe03557b882c726ca3c7d1b7c7b38a8cbb369358f7336ac339326"
   }
  }
 },
 "nbformat": 4,
 "nbformat_minor": 2
}
