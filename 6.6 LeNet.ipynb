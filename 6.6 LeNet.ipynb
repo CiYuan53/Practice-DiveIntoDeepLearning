{
 "cells": [
  {
   "cell_type": "code",
   "execution_count": 1,
   "metadata": {},
   "outputs": [],
   "source": [
    "from torch import nn\n",
    "from torchinfo import summary\n",
    "from common import load_data_from_mnist, train_ch6\n",
    "\n",
    "train_iter, test_iter = load_data_from_mnist()\n"
   ]
  },
  {
   "cell_type": "code",
   "execution_count": 2,
   "metadata": {},
   "outputs": [
    {
     "data": {
      "text/plain": [
       "==========================================================================================\n",
       "Layer (type:depth-idx)                   Output Shape              Param #\n",
       "==========================================================================================\n",
       "Sequential                               [1, 10]                   --\n",
       "├─Conv2d: 1-1                            [1, 6, 28, 28]            156\n",
       "├─Sigmoid: 1-2                           [1, 6, 28, 28]            --\n",
       "├─AvgPool2d: 1-3                         [1, 6, 14, 14]            --\n",
       "├─Conv2d: 1-4                            [1, 16, 10, 10]           2,416\n",
       "├─Sigmoid: 1-5                           [1, 16, 10, 10]           --\n",
       "├─AvgPool2d: 1-6                         [1, 16, 5, 5]             --\n",
       "├─Flatten: 1-7                           [1, 400]                  --\n",
       "├─Linear: 1-8                            [1, 120]                  48,120\n",
       "├─Sigmoid: 1-9                           [1, 120]                  --\n",
       "├─Linear: 1-10                           [1, 84]                   10,164\n",
       "├─Sigmoid: 1-11                          [1, 84]                   --\n",
       "├─Linear: 1-12                           [1, 10]                   850\n",
       "==========================================================================================\n",
       "Total params: 61,706\n",
       "Trainable params: 61,706\n",
       "Non-trainable params: 0\n",
       "Total mult-adds (M): 0.42\n",
       "==========================================================================================\n",
       "Input size (MB): 0.00\n",
       "Forward/backward pass size (MB): 0.05\n",
       "Params size (MB): 0.25\n",
       "Estimated Total Size (MB): 0.30\n",
       "=========================================================================================="
      ]
     },
     "execution_count": 2,
     "metadata": {},
     "output_type": "execute_result"
    }
   ],
   "source": [
    "net = nn.Sequential(\n",
    "    nn.Conv2d(1, 6, 5, padding=2),  # 28 - 5 + 2*2 + 1 = 28\n",
    "    nn.Sigmoid(),\n",
    "    nn.AvgPool2d(2, stride=2),  # 28 / 2 = 14\n",
    "    nn.Conv2d(6, 16, 5),  # 14 - 5 + 0*2 + 1 = 10\n",
    "    nn.Sigmoid(),\n",
    "    nn.AvgPool2d(2, stride=2),  # 10 / 2 = 5\n",
    "    nn.Flatten(),\n",
    "    nn.Linear(400, 120),  # 16 * 5 * 5\n",
    "    nn.Sigmoid(),\n",
    "    nn.Linear(120, 84),\n",
    "    nn.Sigmoid(),\n",
    "    nn.Linear(84, 10),\n",
    ")\n",
    "\n",
    "# below is inner logic of summary()\n",
    "# X = torch.rand(size=(1, 1, 28, 28))\n",
    "# for layer in net:\n",
    "#     X = layer(X)\n",
    "#     print(layer.__class__.__name__,'output shape: \\t',X.shape)\n",
    "\n",
    "summary(net, (1, 1, 28, 28))  # first argument is batch_size\n"
   ]
  },
  {
   "cell_type": "code",
   "execution_count": 3,
   "metadata": {},
   "outputs": [
    {
     "name": "stdout",
     "output_type": "stream",
     "text": [
      "epoch 1: loss 0.01154396, accuracy 11.01%\n",
      "epoch 2: loss 0.00621421, accuracy 52.40%\n",
      "epoch 3: loss 0.00432167, accuracy 66.42%\n",
      "epoch 4: loss 0.00371184, accuracy 70.96%\n",
      "epoch 5: loss 0.00332449, accuracy 74.11%\n",
      "\n",
      "test accuracy: 69.52%\n"
     ]
    }
   ],
   "source": [
    "train_ch6(net, train_iter, test_iter, 5, 0.5)\n"
   ]
  }
 ],
 "metadata": {
  "kernelspec": {
   "display_name": "Python 3.8.9 ('venv.nosync': venv)",
   "language": "python",
   "name": "python3"
  },
  "language_info": {
   "codemirror_mode": {
    "name": "ipython",
    "version": 3
   },
   "file_extension": ".py",
   "mimetype": "text/x-python",
   "name": "python",
   "nbconvert_exporter": "python",
   "pygments_lexer": "ipython3",
   "version": "3.8.9"
  },
  "orig_nbformat": 4,
  "vscode": {
   "interpreter": {
    "hash": "32268d4e581fe03557b882c726ca3c7d1b7c7b38a8cbb369358f7336ac339326"
   }
  }
 },
 "nbformat": 4,
 "nbformat_minor": 2
}
