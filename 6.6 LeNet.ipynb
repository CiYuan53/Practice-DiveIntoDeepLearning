{
 "cells": [
  {
   "cell_type": "code",
   "execution_count": null,
   "metadata": {},
   "outputs": [],
   "source": [
    "from torch import nn\n",
    "from torchinfo import summary\n",
    "from common import load_data_from_mnist, train_ch6\n",
    "\n",
    "train_iter, test_iter = load_data_from_mnist()\n"
   ]
  },
  {
   "cell_type": "code",
   "execution_count": null,
   "metadata": {},
   "outputs": [],
   "source": [
    "net = nn.Sequential(\n",
    "    nn.Conv2d(1, 6, 5, padding=2),  # 28 - 5 + 2*2 + 1 = 28\n",
    "    nn.Sigmoid(),\n",
    "    nn.AvgPool2d(2, stride=2),  # 28 / 2 = 14\n",
    "    nn.Conv2d(6, 16, 5),  # 14 - 5 + 0*2 + 1 = 10\n",
    "    nn.Sigmoid(),\n",
    "    nn.AvgPool2d(2, stride=2),  # 10 / 2 = 5\n",
    "    nn.Flatten(),\n",
    "    nn.Linear(400, 120),  # 16 * 5 * 5\n",
    "    nn.Sigmoid(),\n",
    "    nn.Linear(120, 84),\n",
    "    nn.Sigmoid(),\n",
    "    nn.Linear(84, 10),\n",
    ")\n",
    "\n",
    "# below is inner logic of summary()\n",
    "# X = torch.rand(size=(1, 1, 28, 28))\n",
    "# for layer in net:\n",
    "#     X = layer(X)\n",
    "#     print(layer.__class__.__name__,'output shape: \\t',X.shape)\n",
    "\n",
    "summary(net, (1, 1, 28, 28))  # first argument is batch_size\n"
   ]
  },
  {
   "cell_type": "code",
   "execution_count": null,
   "metadata": {},
   "outputs": [],
   "source": [
    "train_ch6(net, train_iter, test_iter, 5, 0.5)\n"
   ]
  }
 ],
 "metadata": {
  "kernelspec": {
   "display_name": "Python 3.8.9 ('venv.nosync': venv)",
   "language": "python",
   "name": "python3"
  },
  "language_info": {
   "codemirror_mode": {
    "name": "ipython",
    "version": 3
   },
   "file_extension": ".py",
   "mimetype": "text/x-python",
   "name": "python",
   "nbconvert_exporter": "python",
   "pygments_lexer": "ipython3",
   "version": "3.8.9"
  },
  "orig_nbformat": 4,
  "vscode": {
   "interpreter": {
    "hash": "32268d4e581fe03557b882c726ca3c7d1b7c7b38a8cbb369358f7336ac339326"
   }
  }
 },
 "nbformat": 4,
 "nbformat_minor": 2
}
