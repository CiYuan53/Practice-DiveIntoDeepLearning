{
 "cells": [
  {
   "cell_type": "code",
   "execution_count": null,
   "metadata": {},
   "outputs": [],
   "source": [
    "from torch import nn\n",
    "from common import summary, load_data_from_mnist, train\n"
   ]
  },
  {
   "cell_type": "code",
   "execution_count": null,
   "metadata": {},
   "outputs": [],
   "source": [
    "net = nn.Sequential(\n",
    "    nn.Conv2d(1, 6, 5, padding=2),  # 28 - 5 + 2*2 + 1 = 28\n",
    "    nn.Sigmoid(),\n",
    "    nn.AvgPool2d(2, stride=2),  # 28 / 2 = 14\n",
    "    nn.Conv2d(6, 16, 5),  # 14 - 5 + 0*2 + 1 = 10\n",
    "    nn.Sigmoid(),\n",
    "    nn.AvgPool2d(2, stride=2),  # 10 / 2 = 5\n",
    "    nn.Flatten(),\n",
    "    nn.Linear(400, 120),  # 16 * 5 * 5\n",
    "    nn.Sigmoid(),\n",
    "    nn.Linear(120, 84),\n",
    "    nn.Sigmoid(),\n",
    "    nn.Linear(84, 10),\n",
    ")\n",
    "\n",
    "summary(net)"
   ]
  },
  {
   "cell_type": "code",
   "execution_count": null,
   "metadata": {},
   "outputs": [],
   "source": [
    "train(net, *load_data_from_mnist(), 5, 0.5, \"ch6\")\n"
   ]
  }
 ],
 "metadata": {
  "kernelspec": {
   "display_name": "Python 3.8.9 ('venv.nosync': venv)",
   "language": "python",
   "name": "python3"
  },
  "language_info": {
   "codemirror_mode": {
    "name": "ipython",
    "version": 3
   },
   "file_extension": ".py",
   "mimetype": "text/x-python",
   "name": "python",
   "nbconvert_exporter": "python",
   "pygments_lexer": "ipython3",
   "version": "3.8.9"
  },
  "orig_nbformat": 4,
  "vscode": {
   "interpreter": {
    "hash": "32268d4e581fe03557b882c726ca3c7d1b7c7b38a8cbb369358f7336ac339326"
   }
  }
 },
 "nbformat": 4,
 "nbformat_minor": 2
}
