{
 "cells": [
  {
   "cell_type": "code",
   "execution_count": 1,
   "metadata": {},
   "outputs": [],
   "source": [
    "import torch\n",
    "from torch import nn\n",
    "from common import synthetic_data, load_data_arrays\n"
   ]
  },
  {
   "cell_type": "code",
   "execution_count": 3,
   "metadata": {},
   "outputs": [],
   "source": [
    "real_w = torch.ones(200) * 0.01\n",
    "real_b = torch.tensor(0.05)\n",
    "train_iter = load_data_arrays(synthetic_data(real_w, real_b, 20), 5)\n",
    "test_iter = load_data_arrays(synthetic_data(real_w, real_b, 100), 5, False)\n"
   ]
  },
  {
   "cell_type": "code",
   "execution_count": 5,
   "metadata": {},
   "outputs": [
    {
     "name": "stdout",
     "output_type": "stream",
     "text": [
      "w's L2 norm:  0.5625186562538147\n"
     ]
    }
   ],
   "source": [
    "net = nn.Sequential(nn.Linear(200, 1))\n",
    "\n",
    "loss = nn.MSELoss()\n",
    "\n",
    "wd = 0  # 0 means no weight decay\n",
    "\n",
    "optimizer = torch.optim.SGD(net.parameters(), 0.003, weight_decay=wd)\n",
    "\n",
    "for epoch in range(10):\n",
    "    for X, y in train_iter:\n",
    "        optimizer.zero_grad()\n",
    "        loss(net(X), y).backward()\n",
    "        optimizer.step()\n",
    "print(  # converts one-element tensor to scalar\n",
    "    \"w's L2 norm: \", net[0].weight.norm().item()\n",
    ")\n"
   ]
  }
 ],
 "metadata": {
  "kernelspec": {
   "display_name": "Python 3.8.9 ('venv.nosync': venv)",
   "language": "python",
   "name": "python3"
  },
  "language_info": {
   "codemirror_mode": {
    "name": "ipython",
    "version": 3
   },
   "file_extension": ".py",
   "mimetype": "text/x-python",
   "name": "python",
   "nbconvert_exporter": "python",
   "pygments_lexer": "ipython3",
   "version": "3.8.9"
  },
  "orig_nbformat": 4,
  "vscode": {
   "interpreter": {
    "hash": "32268d4e581fe03557b882c726ca3c7d1b7c7b38a8cbb369358f7336ac339326"
   }
  }
 },
 "nbformat": 4,
 "nbformat_minor": 2
}
