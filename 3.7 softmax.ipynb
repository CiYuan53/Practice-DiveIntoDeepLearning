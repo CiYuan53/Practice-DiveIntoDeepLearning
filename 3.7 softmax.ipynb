{
 "cells": [
  {
   "cell_type": "code",
   "execution_count": 3,
   "metadata": {},
   "outputs": [],
   "source": [
    "import torch\n",
    "from torch import nn\n",
    "from common import load_data_from_mnist, init_weights, train_ch3\n",
    "\n",
    "train_iter, test_iter = load_data_from_mnist()\n"
   ]
  },
  {
   "cell_type": "code",
   "execution_count": 2,
   "metadata": {},
   "outputs": [
    {
     "name": "stdout",
     "output_type": "stream",
     "text": [
      "epoch 1: loss 0.00373910, accuracy 75.91%\n",
      "epoch 2: loss 0.00275144, accuracy 81.99%\n",
      "epoch 3: loss 0.00253975, accuracy 83.00%\n",
      "epoch 4: loss 0.00243925, accuracy 83.54%\n",
      "epoch 5: loss 0.00236211, accuracy 84.02%\n",
      "test dataset: accuracy 82.98%\n"
     ]
    }
   ],
   "source": [
    "net = nn.Sequential(nn.Flatten(), nn.Linear(784, 10))  # flatten image 28x28\n",
    "net.apply(init_weights)  # another way to initialize the model\n",
    "\n",
    "loss = nn.CrossEntropyLoss()  # cross entropy, default reduction is mean()\n",
    "\n",
    "optimizer = torch.optim.SGD(net.parameters(), 0.1)  # sgd\n",
    "\n",
    "train_ch3(net, loss, optimizer, 5, train_iter, test_iter)\n"
   ]
  }
 ],
 "metadata": {
  "kernelspec": {
   "display_name": "Python 3.8.9 ('venv.nosync': venv)",
   "language": "python",
   "name": "python3"
  },
  "language_info": {
   "codemirror_mode": {
    "name": "ipython",
    "version": 3
   },
   "file_extension": ".py",
   "mimetype": "text/x-python",
   "name": "python",
   "nbconvert_exporter": "python",
   "pygments_lexer": "ipython3",
   "version": "3.8.9"
  },
  "orig_nbformat": 4,
  "vscode": {
   "interpreter": {
    "hash": "32268d4e581fe03557b882c726ca3c7d1b7c7b38a8cbb369358f7336ac339326"
   }
  }
 },
 "nbformat": 4,
 "nbformat_minor": 2
}
